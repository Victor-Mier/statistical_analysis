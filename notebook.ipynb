{
 "cells": [
  {
   "cell_type": "markdown",
   "metadata": {},
   "source": [
    "# Proyecto Integrador 1 - Análisis estadístico de datos\n",
    "\n",
    "## Descripción\n",
    "Este proyecto está basado en el supuesto de trabajar para una tienda online llamada \"Ice\" que vende videojuegos por todo el mundo. Trabajaremos con un dataset con el objetivo de identificar patrones que determinen si un juego tiene éxito o no.\n",
    "\n",
    "### Estrategia\n",
    "El proyecto lo dividiremos en las siguientes etapas:\n",
    "1. Exploración del dataset\n",
    "2. Preprocesamiento de los datos\n",
    "3. Análisis de los datos\n",
    "4. Segmentación de datos\n",
    "5. Pruebas de hipótesis\n",
    "6. Conclusión general\n",
    "\n"
   ]
  },
  {
   "cell_type": "markdown",
   "metadata": {},
   "source": [
    "## 1. Exploración del dataset\n",
    "En esta sección cargaremos el dataset al proyecto y estudiaremos la estructura general de los datos para familiarizarnos con el mismo."
   ]
  },
  {
   "cell_type": "code",
   "execution_count": null,
   "metadata": {},
   "outputs": [],
   "source": [
    "# Cargar librerías\n",
    "\n",
    "import pandas as pd"
   ]
  },
  {
   "cell_type": "code",
   "execution_count": null,
   "metadata": {},
   "outputs": [],
   "source": []
  }
 ],
 "metadata": {
  "kernelspec": {
   "display_name": "Python 3 (ipykernel)",
   "language": "python",
   "name": "python3"
  },
  "language_info": {
   "codemirror_mode": {
    "name": "ipython",
    "version": 3
   },
   "file_extension": ".py",
   "mimetype": "text/x-python",
   "name": "python",
   "nbconvert_exporter": "python",
   "pygments_lexer": "ipython3",
   "version": "3.12.2"
  },
  "toc": {
   "base_numbering": 1,
   "nav_menu": {},
   "number_sections": true,
   "sideBar": true,
   "skip_h1_title": true,
   "title_cell": "Table of Contents",
   "title_sidebar": "Contents",
   "toc_cell": false,
   "toc_position": {},
   "toc_section_display": true,
   "toc_window_display": false
  }
 },
 "nbformat": 4,
 "nbformat_minor": 2
}
